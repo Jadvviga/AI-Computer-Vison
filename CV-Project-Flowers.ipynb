{
 "cells": [
  {
   "cell_type": "markdown",
   "id": "a3b7514a",
   "metadata": {},
   "source": [
    "# Computer Vision Project - Classification of Flowers\n"
   ]
  },
  {
   "attachments": {},
   "cell_type": "markdown",
   "id": "99c11103",
   "metadata": {},
   "source": [
    "In this project your objective is to create a model in order to classify flowers. Thiszip file contains all relevant data. \n",
    "\n",
    "1. The data contains two folders: *train* and *test*. The *train* folder consists of 5486-images to use for training while the *test* folder contains 1351-images you can use to test your model in a **train-test-split** validation style. We have omitted another set of 1352 validation images which we will use to benchmark your final models in the last lecture. \n",
    "\n",
    "\n",
    "2. We have provided you with two label files: *train_labels.csv* and *test_labels.csv*. Each file contains the filename of the corresponding image and the class label. In total we have **102 different classes** of flowers.  You can import the label files using the `import_labels()` function provided to you in this notebook.\n",
    "\n",
    "\n",
    "3. Due to the large number of images, there is a good chance that you can not easily fit the entire training and testing data into RAM. We therefore give you an implementation of a `DataGenerator` class that can be used with keras. This class will read in the images from your hard-drive for each batch during during or testing. The class comes with some nice features that could improve your training significantly such as **image resizing**, **data augmentation** and **preprocessing**. Have a look at the code to find out how.\n",
    "\n",
    "    Initialize data generators using labels and image source directory.\n",
    "\n",
    "    `\n",
    "    datagen_train = DataGenerator('train', y_train, batch_size, input_shape, ...)\n",
    "    datagen_test = DataGenerator('test', y_test, batch_size, input_shape, ...)`\n",
    "\n",
    "    Train your model using data generators.\n",
    "\n",
    "    `model.fit(datagen_train, validation_data=datagen_test, ...)`\n",
    "    \n",
    "    \n",
    "4. Select a suitable model for classification. It is up to you to decide all model parameters, such as **number of layers**, **number and size of filter** in each layer, using **pooling** or, **image-size**, **data-augmentation**, **learning rate**, ... \n",
    "\n",
    "\n",
    "5. **Document** your progress and your intermediate results (your failures and improvements). Describe why you selected certain model and training parameters, what worked, what did not work. Store the training history (loss and accuracy) and create corresponding plots. This documentation will be part of your final presentation and will be **graded**.\n",
    "\n",
    "\n",
    "6. Feel free to explore the internet for suitable CNN models and re-use these ideas. If you use certain features we have not touched during the lecture such as Dropout, Residual Learning or Batch Normalization. Prepare a slide in your final presentation to explain in your own (basic) terms what these things to so we can all learn from your experience. **Notice:** Very large models might perform better but will be harder and slower to train. **Do not use a pre-trained model on the flower dataset you find online!** You are however allowed to use techniques like transfer learning or refinement (i.e. using models pre-trained on different datasets). \n",
    "\n",
    "\n",
    "7. Prepare a notebook with your model such that we can use it in the final competition. This means, store your trained model using `model.save(...)`. Your saved models can be loaded via `tf.keras.models.load_model(...)`. We will then provide you with a new folder containing images (*validation*) and a file containing labels (*validation_labels.csv*) which have the same structure. Prepare a data generator for this validation data (test it using the test data) and supply it to the \n",
    " `evaluate_model(model, datagen)` function provided to you.\n",
    " \n",
    " Your prepared notebook could look like this:\n",
    " \n",
    "    `... import stuff \n",
    "    ... code to load the stored model ...\n",
    "    y_validation = import_labels('validation_labels.csv')\n",
    "    datagen_validation = DataGenerator('validation', y_validation, batch_size, input_shape)\n",
    "    evaluate_model(model, datagen_validation)`\n",
    "\n",
    "\n",
    "8. Prepare a 15-Minute presentation of your findings and final model presentation. A rough guideline what could be interesting to your audience:\n",
    "    * Explain your models architecture (number of layers, number of total parameters, how long took it to train, ...)\n",
    "    * Compare the training history of your experimentats visually\n",
    "    * Explain your best model (why is it better)\n",
    "    * Why did you take certain decision (parameters, image size, batch size, ...)\n",
    "    * What worked, what did not work (any ideas why?)\n",
    "    * **What did you learn?**\n",
    "    \n",
    "\n"
   ]
  },
  {
   "cell_type": "code",
   "execution_count": 10,
   "id": "1dde8f70",
   "metadata": {},
   "outputs": [],
   "source": [
    "# Read in label file and return a dictionary {'filename' : label}.\n",
    "#\n",
    "def import_labels(label_file):\n",
    "    labels = dict()\n",
    "\n",
    "    import csv\n",
    "    with open(label_file) as fd:\n",
    "        csvreader = csv.DictReader(fd)\n",
    "\n",
    "        for row in csvreader:\n",
    "            labels[row['filename']] = int(row['label'])\n",
    "    return labels"
   ]
  },
  {
   "cell_type": "code",
   "execution_count": 11,
   "id": "ffaa6579",
   "metadata": {},
   "outputs": [],
   "source": [
    "\n",
    "import tensorflow as tf\n",
    "from tensorflow import keras\n",
    "import os\n",
    "import numpy as np\n",
    "import matplotlib.pyplot as plt\n",
    "\n",
    "\n",
    "class DataGenerator(keras.utils.Sequence):\n",
    "\n",
    "    '''\n",
    "        img_root_dir - path to images\n",
    "        labels_dict - dict with labels of data\n",
    "        batch_size - batch\n",
    "        target_dim - target dimension for our images to scale to\n",
    "        preprocess_func=None\n",
    "        use_augmentation=False - augumentation for extra data\n",
    "        do_shuffling=False - turns off shuffling of data\n",
    "    '''\n",
    "    def __init__(self, img_root_dir, labels_dict, batch_size, target_dim, preprocess_func=None, use_augmentation=False, do_shuffling=False):\n",
    "        self._labels_dict = labels_dict\n",
    "        self._img_root_dir = img_root_dir\n",
    "        self._batch_size = batch_size\n",
    "        self._target_dim = target_dim\n",
    "        self._preprocess_func = preprocess_func\n",
    "        self._n_classes = len(set(self._labels_dict.values()))\n",
    "        self._fnames_all = list(self._labels_dict.keys())\n",
    "        self._use_augmentation = use_augmentation\n",
    "        self._do_shuffling = do_shuffling\n",
    "\n",
    "        if self._use_augmentation:\n",
    "            self._augmentor =  keras.preprocessing.image.ImageDataGenerator(\n",
    "                rotation_range=40,\n",
    "                width_shift_range=0.2,\n",
    "                height_shift_range=0.2,\n",
    "                shear_range=0.2,\n",
    "                zoom_range=0.2,\n",
    "                horizontal_flip=True,\n",
    "                fill_mode='nearest'\n",
    "            )\n",
    "        self.on_epoch_end()\n",
    "\n",
    "    def __len__(self):\n",
    "        return int(np.floor(len(self._fnames_all)) / self._batch_size)\n",
    "\n",
    "    def on_epoch_end(self):\n",
    "        self._indices = np.arange(len(self._fnames_all))\n",
    "        if(self._do_shuffling):\n",
    "            np.random.shuffle(self._indices)\n",
    "\n",
    "    def __getitem__(self, index):\n",
    "        indices = self._indices[index * self._batch_size:(index + 1) * self._batch_size]\n",
    "\n",
    "        fnames = [self._fnames_all[k] for k in indices]\n",
    "        X, Y = self.__load_files__(fnames)\n",
    "\n",
    "        return X, Y\n",
    "\n",
    "    def __load_files__(self, batch_filenames):\n",
    "        X = np.empty((self._batch_size, *self._target_dim, 3))\n",
    "        Y = np.empty((self._batch_size), dtype=int)\n",
    "\n",
    "        for idx, fname in enumerate(batch_filenames):\n",
    "            img_path = os.path.join(self._img_root_dir, fname)\n",
    "            img =  keras.preprocessing.image.load_img(img_path, target_size=self._target_dim)\n",
    "            x =  keras.preprocessing.image.img_to_array(img)\n",
    "\n",
    "            if self._preprocess_func is not None:\n",
    "                x = self._preprocess_func(x)\n",
    "\n",
    "            X[idx, :] = x\n",
    "            Y[idx] = self._labels_dict[fname] - 1\n",
    "\n",
    "        if self._use_augmentation:\n",
    "            it = self._augmentor.flow(X, batch_size=self._batch_size, shuffle=False)\n",
    "            X = it.next()\n",
    "\n",
    "        return X, keras.utils.to_categorical(Y, num_classes=self._n_classes)\n"
   ]
  },
  {
   "cell_type": "code",
   "execution_count": 12,
   "id": "29fb036b",
   "metadata": {},
   "outputs": [],
   "source": [
    "\n",
    "def create_model(input_shape):\n",
    "    # model CNN\n",
    "    model = keras.Sequential()\n",
    "    # we have to tell keras the correct input shape aka the dimension of our images\n",
    "    model.add(keras.Input(shape=(input_shape, input_shape, 3)))\n",
    "    # instead of 32 -> our target dimension\n",
    "\n",
    "    # add a convolution layer with 16 filters, filters of size 3x3 and relu as activation Recitified Linear Unit\n",
    "    model.add(keras.layers.Conv2D(filters=16, kernel_size=(3, 3), activation='relu'))\n",
    "    model.add(keras.layers.MaxPool2D(2, 2))\n",
    "\n",
    "    # add a convolution layer with 16 filters, filters of size 3x3 and relu as activation (whatever relu is)\n",
    "    model.add(keras.layers.Conv2D(filters=16, kernel_size=(3, 3), activation='relu'))\n",
    "    model.add(keras.layers.MaxPool2D(2, 2))\n",
    "\n",
    "    # convert to fully-connected network\n",
    "    model.add(keras.layers.Flatten())\n",
    "\n",
    "    # add classifier part\n",
    "    model.add(keras.layers.Dense(input_shape, activation='relu'))\n",
    "    model.add(keras.layers.Dense(input_shape, activation='relu'))\n",
    "\n",
    "    # number of output neurons must be equal to number of classes\n",
    "    model.add(keras.layers.Dense(102, activation='softmax'))\n",
    "\n",
    "\n",
    "    model.summary()\n",
    "    # keras.utils.plot_model(model, \"my_first_model.png\")\n",
    "\n",
    "    return model\n"
   ]
  },
  {
   "cell_type": "code",
   "execution_count": 13,
   "id": "9ce0e7c7",
   "metadata": {},
   "outputs": [],
   "source": [
    "# 1351\n",
    "TEST_LABELS_PATH = 'data/test_labels.csv'\n",
    "TEST_IMAGES_PATH = 'data/test'\n",
    "\n",
    "# 5486\n",
    "TRAIN_LABELS_PATH = 'data/train_labels.csv'\n",
    "TRAIN_IMAGES_PATH = 'data/train'\n",
    "\n",
    "# 224\n",
    "input_shape = 224"
   ]
  },
  {
   "cell_type": "code",
   "execution_count": 17,
   "id": "25bfca65",
   "metadata": {},
   "outputs": [
    {
     "name": "stdout",
     "output_type": "stream",
     "text": [
      "193\n"
     ]
    }
   ],
   "source": [
    "train_labels = import_labels(TRAIN_LABELS_PATH)\n",
    "test_labels = import_labels(TEST_LABELS_PATH)\n",
    "\n",
    "\n",
    "# if batch size is not the divider of total numbers of images, the DataGenerator will cut the reminder (ergo there will be too little for model.prediction)\n",
    "datagen_train = DataGenerator(img_root_dir=TRAIN_IMAGES_PATH,\n",
    "                              labels_dict=train_labels,\n",
    "                              batch_size=10,\n",
    "                              target_dim=(input_shape, input_shape))\n",
    "datagen_test = DataGenerator(img_root_dir=TEST_IMAGES_PATH,\n",
    "                              labels_dict=test_labels,\n",
    "                              batch_size=7,\n",
    "                              target_dim=(input_shape, input_shape))\n",
    "print(len(datagen_test))"
   ]
  },
  {
   "cell_type": "code",
   "execution_count": 18,
   "id": "4b01d3f1",
   "metadata": {},
   "outputs": [
    {
     "name": "stdout",
     "output_type": "stream",
     "text": [
      "Model: \"sequential_4\"\n",
      "_________________________________________________________________\n",
      " Layer (type)                Output Shape              Param #   \n",
      "=================================================================\n",
      " conv2d_8 (Conv2D)           (None, 222, 222, 16)      448       \n",
      "                                                                 \n",
      " max_pooling2d_8 (MaxPooling  (None, 111, 111, 16)     0         \n",
      " 2D)                                                             \n",
      "                                                                 \n",
      " conv2d_9 (Conv2D)           (None, 109, 109, 16)      2320      \n",
      "                                                                 \n",
      " max_pooling2d_9 (MaxPooling  (None, 54, 54, 16)       0         \n",
      " 2D)                                                             \n",
      "                                                                 \n",
      " flatten_4 (Flatten)         (None, 46656)             0         \n",
      "                                                                 \n",
      " dense_12 (Dense)            (None, 224)               10451168  \n",
      "                                                                 \n",
      " dense_13 (Dense)            (None, 224)               50400     \n",
      "                                                                 \n",
      " dense_14 (Dense)            (None, 102)               22950     \n",
      "                                                                 \n",
      "=================================================================\n",
      "Total params: 10,527,286\n",
      "Trainable params: 10,527,286\n",
      "Non-trainable params: 0\n",
      "_________________________________________________________________\n"
     ]
    }
   ],
   "source": [
    "model = create_model(input_shape)\n",
    "\n",
    "# compiling  model\n",
    "loss_fn = keras.losses.CategoricalCrossentropy()\n",
    "model.compile(loss=loss_fn, optimizer='adam', metrics=['accuracy'])\n",
    "\n",
    "\n",
    "\n"
   ]
  },
  {
   "cell_type": "code",
   "execution_count": 19,
   "id": "6eb1dd68",
   "metadata": {},
   "outputs": [
    {
     "name": "stdout",
     "output_type": "stream",
     "text": [
      "Epoch 1/10\n",
      "109/109 [==============================] - 157s 1s/step - loss: 40.3053 - accuracy: 0.0292 - val_loss: 4.5745 - val_accuracy: 0.0393\n",
      "Epoch 2/10\n",
      "109/109 [==============================] - 160s 1s/step - loss: 3.7662 - accuracy: 0.1976 - val_loss: 4.5974 - val_accuracy: 0.0652\n",
      "Epoch 3/10\n",
      "109/109 [==============================] - 171s 2s/step - loss: 1.7719 - accuracy: 0.6106 - val_loss: 4.9928 - val_accuracy: 0.0770\n",
      "Epoch 4/10\n",
      "109/109 [==============================] - 177s 2s/step - loss: 0.4585 - accuracy: 0.9156 - val_loss: 6.4799 - val_accuracy: 0.0881\n",
      "Epoch 5/10\n",
      "109/109 [==============================] - 174s 2s/step - loss: 0.1620 - accuracy: 0.9750 - val_loss: 8.1245 - val_accuracy: 0.0941\n",
      "Epoch 6/10\n",
      "109/109 [==============================] - 168s 2s/step - loss: 0.0914 - accuracy: 0.9833 - val_loss: 7.6416 - val_accuracy: 0.0763\n",
      "Epoch 7/10\n",
      "109/109 [==============================] - 170s 2s/step - loss: 0.0973 - accuracy: 0.9851 - val_loss: 8.2746 - val_accuracy: 0.0837\n",
      "Epoch 8/10\n",
      "109/109 [==============================] - 170s 2s/step - loss: 0.0494 - accuracy: 0.9908 - val_loss: 8.3415 - val_accuracy: 0.0844\n",
      "Epoch 9/10\n",
      "109/109 [==============================] - 174s 2s/step - loss: 0.0318 - accuracy: 0.9950 - val_loss: 9.0392 - val_accuracy: 0.0807\n",
      "Epoch 10/10\n",
      "109/109 [==============================] - 172s 2s/step - loss: 0.0163 - accuracy: 0.9972 - val_loss: 9.1524 - val_accuracy: 0.0807\n"
     ]
    }
   ],
   "source": [
    "# trining\n",
    "callback = tf.keras.callbacks.EarlyStopping(monitor='val_accuracy', min_delta=0.0001, patience=5, restore_best_weights=True)\n",
    "\n",
    "\n",
    "history = model.fit(x=datagen_train, callbacks=[callback], validation_data=datagen_test, epochs=10)\n",
    "\n",
    "#saving model for later use\n",
    "model.save(filepath='models/model1_notshuffled.h5')"
   ]
  },
  {
   "cell_type": "code",
   "execution_count": 20,
   "id": "2cef32db",
   "metadata": {},
   "outputs": [
    {
     "data": {
      "image/png": "[encoded data removed]",
      "text/plain": [
       "<Figure size 640x480 with 1 Axes>"
      ]
     },
     "metadata": {},
     "output_type": "display_data"
    },
    {
     "data": {
      "image/png": "[encoded data removed]",
      "text/plain": [
       "<Figure size 640x480 with 1 Axes>"
      ]
     },
     "metadata": {},
     "output_type": "display_data"
    }
   ],
   "source": [
    "# plot history of trained model\n",
    "plt.plot(history.history['accuracy'])\n",
    "plt.plot(history.history['val_accuracy'])\n",
    "plt.legend(('Training Accuracy', 'Validation accuracy'))\n",
    "plt.ylabel('Accuracy')\n",
    "plt.xlabel('Number of Epochs')\n",
    "plt.show()\n",
    "\n",
    "plt.plot(history.history['loss'])\n",
    "plt.plot(history.history['val_loss'])\n",
    "plt.legend(('Training Loss', 'Validation Loss'))\n",
    "plt.ylabel('Loss')\n",
    "plt.xlabel('Number of Epochs')\n",
    "plt.show()"
   ]
  },
  {
   "cell_type": "code",
   "execution_count": 18,
   "id": "408ba2db",
   "metadata": {},
   "outputs": [],
   "source": [
    "# loading pre-saved model\n",
    "model = keras.models.load_model(filepath='models/model1_notshuffled.h5')"
   ]
  },
  {
   "cell_type": "code",
   "execution_count": 19,
   "id": "d9a48659",
   "metadata": {},
   "outputs": [
    {
     "name": "stdout",
     "output_type": "stream",
     "text": [
      "548/548 - 71s - loss: 0.1295 - accuracy: 0.9819 - 71s/epoch - 130ms/step\n"
     ]
    },
    {
     "data": {
      "text/plain": [
       "[0.12950174510478973, 0.9819343090057373]"
      ]
     },
     "execution_count": 19,
     "metadata": {},
     "output_type": "execute_result"
    }
   ],
   "source": [
    "# evaluating model\n",
    "model.evaluate(x=datagen_train, verbose=2)"
   ]
  },
  {
   "cell_type": "code",
   "execution_count": 20,
   "id": "26f4c389",
   "metadata": {},
   "outputs": [
    {
     "name": "stdout",
     "output_type": "stream",
     "text": [
      "193/193 [==============================] - 15s 76ms/step\n",
      "1351\n"
     ]
    }
   ],
   "source": [
    "#compare predicted labels to test_labels\n",
    "# add confusion matrix, training history\n",
    "\n",
    "\n",
    "# only one batch\n",
    "# datagen_test.on_epoch_end()\n",
    "# x_test, y_true = datagen_test.__getitem__(0)\n",
    "\n",
    "# y_predict = model.predict(x_test)\n",
    "\n",
    "# y_true = tf.argmax(input=y_true, axis=1)\n",
    "# y_predict = tf.argmax(input=y_predict, axis=1)\n",
    "\n",
    "\n",
    "y_predict = model.predict(x=datagen_test)\n",
    "\n",
    "print(len(y_predict))\n",
    "#y_true = datagen_test.\n",
    "y_predict = tf.argmax(input=y_predict, axis=1)\n"
   ]
  },
  {
   "cell_type": "code",
   "execution_count": 21,
   "id": "cea46a18",
   "metadata": {},
   "outputs": [
    {
     "name": "stdout",
     "output_type": "stream",
     "text": [
      "[94, 20, 36, 46, 7, 101, 70, 94, 76, 7, 94, 81, 92, 92, 40, 35, 48, 58, 27, 79, 79, 36, 81, 40, 40, 81, 48, 95, 20, 0, 50, 64, 47, 36, 36, 100, 64, 3, 81, 19, 69, 42, 48, 77, 28, 94, 68, 76, 18, 79, 77, 80, 33, 88, 59, 73, 50, 30, 64, 91, 56, 88, 20, 59, 74, 35, 42, 81, 28, 7, 80, 75, 27, 36, 87, 36, 20, 77, 60, 75, 79, 42, 7, 76, 20, 80, 88, 40, 40, 55, 51, 81, 81, 75, 76, 50, 33, 76, 81, 57, 76, 50, 29, 44, 4, 81, 76, 76, 80, 27, 27, 28, 77, 35, 55, 77, 80, 20, 37, 46, 100, 50, 57, 33, 68, 12, 20, 10, 80, 20, 44, 50, 38, 64, 80, 29, 44, 64, 43, 94, 92, 20, 65, 89, 55, 44, 64, 7, 20, 27, 94, 81, 28, 50, 83, 100, 51, 41, 79, 76, 83, 80, 29, 31, 94, 35, 14, 90, 7, 101, 63, 52, 46, 64, 20, 64, 75, 88, 76, 81, 53, 63, 97, 64, 74, 59, 73, 18, 49, 82, 50, 87, 50, 83, 40, 87, 20, 27, 20, 35, 70, 40, 68, 50, 20, 20, 27, 76, 59, 57, 75, 88, 94, 79, 43, 55, 77, 67, 90, 58, 20, 79, 94, 51, 34, 76, 20, 20, 31, 59, 93, 84, 18, 55, 79, 20, 20, 28, 90, 59, 20, 96, 48, 79, 42, 72, 80, 76, 59, 16, 80, 48, 94, 80, 42, 2, 63, 55, 73, 5, 48, 80, 28, 87, 36, 76, 76, 16, 69, 81, 20, 51, 81, 71, 14, 73, 7, 30, 45, 59, 81, 61, 20, 98, 94, 0, 79, 74, 59, 27, 59, 87, 79, 97, 57, 30, 21, 50, 88, 80, 81, 81, 20, 34, 46, 76, 20, 94, 55, 77, 20, 11, 83, 35, 81, 2, 57, 94, 80, 30, 1, 21, 83, 75, 36, 20, 80, 34, 80, 50, 8, 7, 59, 81, 55, 25, 73, 20, 8, 94, 94, 55, 57, 69, 50, 20, 36, 22, 77, 94, 90, 81, 73, 44, 98, 2, 36, 9, 90, 87, 90, 2, 76, 80, 73, 45, 76, 79, 50, 79, 95, 92, 45, 36, 57, 87, 36, 44, 35, 35, 33, 79, 48, 48, 64, 81, 20, 44, 59, 43, 44, 39, 55, 43, 68, 40, 46, 75, 29, 28, 94, 46, 20, 47, 56, 7, 36, 92, 45, 79, 55, 76, 29, 79, 91, 35, 33, 29, 20, 33, 75, 79, 27, 50, 20, 7, 69, 45, 59, 20, 27, 57, 80, 79, 45, 76, 76, 55, 74, 36, 7, 20, 20, 20, 7, 48, 91, 81, 95, 79, 44, 45, 49, 21, 7, 93, 94, 101, 35, 79, 53, 18, 7, 45, 14, 74, 76, 20, 73, 77, 59, 97, 36, 101, 67, 81, 19, 48, 33, 34, 61, 79, 44, 51, 21, 94, 64, 76, 70, 67, 80, 76, 56, 98, 11, 55, 45, 57, 17, 19, 36, 20, 70, 57, 93, 20, 38, 36, 29, 48, 82, 73, 94, 57, 95, 7, 81, 34, 27, 79, 76, 77, 81, 42, 70, 36, 73, 76, 79, 80, 20, 66, 35, 64, 101, 87, 76, 21, 77, 73, 59, 73, 55, 80, 98, 87, 55, 27, 50, 20, 90, 81, 27, 46, 69, 7, 76, 76, 42, 0, 76, 76, 50, 90, 91, 29, 6, 80, 20, 29, 7, 73, 43, 45, 81, 36, 80, 89, 40, 57, 51, 43, 80, 30, 69, 81, 7, 40, 55, 44, 76, 24, 60, 50, 36, 20, 22, 44, 81, 34, 27, 57, 91, 94, 51, 95, 20, 50, 54, 43, 51, 77, 56, 43, 81, 30, 50, 29, 36, 79, 14, 79, 13, 73, 80, 7, 56, 48, 8, 35, 81, 101, 19, 46, 36, 40, 70, 30, 36, 59, 36, 50, 73, 94, 81, 50, 83, 20, 50, 51, 20, 81, 73, 50, 27, 50, 46, 94, 71, 76, 79, 79, 79, 75, 98, 87, 35, 81, 37, 20, 88, 81, 17, 52, 70, 93, 69, 74, 43, 55, 29, 44, 43, 81, 64, 76, 11, 79, 20, 82, 20, 33, 77, 69, 7, 81, 97, 81, 5, 56, 77, 50, 20, 8, 20, 50, 36, 81, 73, 82, 83, 50, 59, 101, 97, 9, 80, 22, 46, 57, 93, 43, 62, 90, 59, 6, 18, 70, 43, 16, 20, 94, 75, 36, 27, 59, 73, 88, 97, 91, 87, 59, 89, 97, 77, 44, 20, 24, 69, 80, 20, 89, 50, 7, 90, 50, 57, 4, 31, 88, 11, 44, 73, 94, 70, 57, 36, 57, 28, 9, 82, 82, 8, 45, 62, 35, 22, 42, 24, 27, 81, 88, 69, 76, 87, 80, 23, 34, 38, 55, 29, 7, 50, 34, 79, 36, 44, 36, 39, 20, 45, 88, 79, 82, 50, 80, 76, 73, 70, 93, 50, 64, 81, 24, 20, 80, 82, 48, 87, 70, 81, 73, 89, 37, 55, 88, 41, 20, 44, 74, 59, 97, 82, 94, 7, 33, 73, 79, 89, 88, 35, 77, 59, 20, 92, 71, 80, 76, 20, 77, 27, 57, 20, 93, 0, 34, 27, 70, 79, 42, 65, 76, 27, 20, 87, 5, 90, 88, 66, 57, 27, 23, 73, 82, 35, 2, 93, 88, 64, 20, 57, 27, 69, 80, 76, 74, 50, 19, 22, 73, 49, 60, 27, 97, 77, 50, 14, 80, 20, 74, 92, 43, 44, 67, 61, 45, 95, 90, 17, 64, 99, 24, 81, 28, 73, 88, 21, 44, 95, 25, 27, 78, 77, 29, 20, 75, 7, 100, 0, 54, 89, 50, 71, 88, 28, 20, 36, 77, 20, 58, 59, 26, 51, 44, 33, 50, 45, 50, 49, 7, 50, 87, 7, 29, 64, 76, 20, 27, 17, 89, 82, 59, 81, 83, 90, 24, 73, 38, 88, 40, 98, 30, 27, 55, 94, 41, 69, 84, 94, 45, 48, 11, 82, 69, 20, 76, 79, 74, 76, 37, 25, 50, 81, 77, 20, 35, 94, 45, 8, 40, 14, 11, 58, 90, 80, 22, 36, 30, 59, 88, 44, 69, 92, 81, 83, 73, 33, 44, 55, 43, 87, 27, 2, 27, 57, 44, 50, 34, 45, 38, 7, 44, 89, 68, 7, 51, 43, 50, 40, 95, 74, 81, 20, 76, 62, 44, 81, 7, 81, 87, 82, 29, 29, 74, 28, 50, 2, 27, 97, 79, 73, 80, 101, 90, 87, 40, 92, 7, 76, 36, 62, 21, 81, 74, 81, 20, 76, 90, 97, 20, 75, 84, 94, 80, 76, 80, 55, 43, 73, 22, 11, 74, 36, 76, 27, 20, 73, 88, 7, 93, 57, 90, 73, 37, 74, 36, 22, 7, 87, 43, 36, 48, 59, 61, 76, 95, 40, 55, 94, 76, 93, 7, 41, 77, 36, 92, 43, 76, 87, 43, 59, 97, 80, 79, 2, 88, 7, 57, 80, 88, 63, 45, 87, 44, 80, 56, 80, 40, 80, 7, 35, 30, 20, 90, 20, 81, 77, 20, 55, 77, 25, 94, 73, 42, 88, 50, 20, 43, 44, 74, 44, 76, 28, 44, 9, 81, 79, 27, 76, 74, 50, 20, 76, 76, 80, 20, 90, 59, 45, 45, 76, 44, 25, 35, 79, 36, 79, 72, 82, 45, 79, 5, 76, 7, 73, 76, 81, 33, 74, 88, 59, 74, 64, 55, 94, 50, 97, 80, 77, 90, 97, 80, 94, 20, 88, 80, 79, 35, 80, 76, 74, 46, 94, 81, 80, 52, 29, 47, 94, 27, 7, 97, 36, 11, 19, 34, 28, 73, 27, 80, 76, 93, 68, 18, 36, 79, 45, 76, 80, 20, 79, 19, 101, 7, 92, 4, 7, 50, 57, 35, 61, 20, 30, 46, 98, 57, 79, 72, 81, 101, 21, 47, 28, 89, 20, 45, 80, 76, 59, 64, 7, 46, 44, 64, 45, 50, 46, 35, 56, 83, 76, 95, 7, 51, 76, 74, 78, 79, 88, 29, 79, 81, 20, 36, 35, 87, 57, 94, 45, 7, 64, 93, 43, 20, 101, 73, 45, 42, 48, 87, 20, 27, 7, 60, 45, 5, 77, 20, 71, 17, 35, 36, 73, 7, 44, 74, 20, 19, 21, 73, 16]\n",
      "1351\n",
      "[18, 102, 93, 90, 54, 46, 23, 18, 26, 89, 69, 23, 51, 37, 46, 69, 29, 50, 1, 5, 73, 52, 77, 54, 44, 60, 49, 75, 73, 70, 16, 84, 73, 37, 37, 5, 50, 99, 73, 81, 91, 48, 74, 57, 64, 72, 80, 92, 51, 51, 92, 19, 60, 58, 60, 77, 76, 16, 61, 53, 88, 89, 84, 51, 73, 7, 73, 57, 18, 56, 38, 45, 28, 23, 88, 48, 51, 98, 61, 76, 73, 90, 8, 51, 37, 51, 74, 83, 47, 46, 96, 38, 28, 88, 72, 75, 73, 51, 69, 89, 79, 30, 51, 78, 63, 2, 77, 77, 51, 94, 88, 37, 78, 75, 56, 81, 101, 73, 93, 40, 48, 7, 58, 97, 13, 36, 93, 96, 73, 73, 77, 89, 60, 78, 74, 31, 12, 66, 76, 46, 87, 77, 97, 89, 56, 17, 65, 77, 83, 79, 81, 51, 40, 85, 84, 74, 62, 77, 59, 91, 55, 45, 54, 37, 96, 66, 57, 102, 87, 46, 36, 29, 24, 48, 29, 65, 55, 26, 35, 4, 18, 2, 67, 46, 60, 41, 5, 80, 99, 45, 81, 70, 88, 47, 54, 97, 12, 25, 21, 90, 83, 88, 69, 74, 60, 29, 43, 30, 80, 46, 55, 78, 7, 88, 11, 41, 60, 68, 49, 18, 7, 46, 74, 37, 83, 77, 78, 26, 74, 84, 51, 42, 44, 46, 46, 93, 14, 51, 68, 41, 96, 46, 75, 27, 12, 73, 30, 38, 51, 69, 81, 37, 59, 51, 97, 32, 76, 74, 39, 16, 2, 67, 88, 58, 7, 60, 77, 86, 62, 42, 71, 55, 101, 96, 101, 95, 8, 74, 88, 101, 38, 2, 102, 88, 29, 62, 101, 75, 54, 76, 51, 30, 56, 66, 11, 94, 75, 83, 58, 64, 40, 37, 77, 30, 48, 77, 73, 78, 46, 10, 78, 77, 15, 78, 52, 68, 56, 34, 51, 88, 61, 81, 9, 17, 3, 52, 37, 3, 73, 82, 92, 11, 73, 66, 58, 29, 56, 17, 32, 74, 76, 74, 71, 18, 27, 99, 96, 97, 73, 37, 68, 51, 90, 20, 63, 95, 38, 73, 20, 80, 100, 45, 77, 88, 12, 89, 81, 74, 30, 54, 35, 82, 56, 87, 56, 74, 51, 35, 84, 75, 101, 41, 74, 31, 48, 81, 75, 101, 53, 4, 77, 74, 46, 44, 51, 2, 85, 76, 11, 30, 37, 53, 21, 80, 10, 85, 55, 93, 46, 41, 56, 64, 47, 44, 14, 73, 81, 24, 38, 88, 76, 54, 25, 74, 52, 77, 18, 89, 50, 73, 77, 101, 60, 60, 46, 41, 10, 56, 77, 39, 40, 73, 77, 83, 36, 25, 92, 9, 53, 5, 1, 26, 5, 84, 78, 14, 76, 91, 36, 89, 40, 40, 89, 63, 36, 64, 89, 73, 50, 75, 2, 30, 84, 27, 72, 75, 76, 34, 60, 12, 5, 43, 76, 55, 75, 95, 12, 77, 63, 12, 97, 35, 79, 86, 5, 62, 95, 58, 16, 43, 66, 97, 100, 63, 4, 18, 39, 11, 83, 49, 18, 5, 23, 65, 57, 8, 75, 5, 3, 54, 77, 62, 81, 33, 63, 76, 74, 78, 74, 69, 31, 66, 40, 42, 65, 44, 77, 36, 59, 63, 51, 85, 58, 88, 99, 74, 63, 64, 12, 84, 22, 93, 25, 48, 78, 24, 69, 83, 88, 14, 79, 94, 29, 91, 99, 90, 54, 87, 59, 32, 74, 73, 46, 74, 82, 94, 81, 50, 36, 46, 3, 12, 22, 45, 77, 38, 94, 41, 56, 58, 81, 37, 51, 88, 8, 8, 75, 101, 62, 25, 30, 16, 97, 74, 52, 67, 91, 90, 76, 81, 51, 78, 2, 8, 82, 95, 34, 88, 23, 80, 15, 51, 55, 68, 75, 70, 92, 3, 36, 74, 70, 76, 94, 27, 89, 95, 41, 56, 87, 8, 68, 27, 72, 95, 53, 77, 87, 6, 33, 68, 31, 2, 54, 86, 88, 75, 48, 75, 46, 73, 85, 88, 59, 52, 92, 33, 34, 95, 23, 54, 80, 98, 72, 68, 71, 45, 53, 47, 44, 56, 30, 29, 46, 52, 100, 91, 7, 44, 14, 44, 50, 51, 19, 49, 33, 75, 88, 87, 11, 73, 2, 62, 75, 64, 60, 58, 19, 95, 91, 91, 73, 44, 38, 53, 28, 10, 76, 46, 58, 44, 75, 60, 63, 88, 81, 81, 72, 46, 81, 8, 77, 96, 88, 77, 33, 39, 4, 54, 82, 89, 62, 43, 23, 86, 69, 83, 85, 79, 1, 17, 7, 82, 51, 18, 2, 32, 47, 5, 94, 89, 99, 49, 58, 57, 89, 48, 51, 89, 80, 9, 83, 83, 40, 31, 30, 92, 95, 5, 28, 25, 65, 16, 53, 57, 73, 83, 15, 17, 39, 44, 78, 43, 75, 33, 69, 39, 3, 91, 95, 2, 46, 46, 71, 88, 55, 87, 18, 89, 44, 78, 98, 48, 51, 70, 88, 66, 83, 41, 88, 100, 44, 96, 100, 40, 56, 96, 23, 71, 98, 80, 60, 30, 91, 13, 79, 53, 28, 80, 12, 43, 73, 1, 51, 57, 65, 97, 74, 87, 95, 47, 79, 60, 50, 22, 22, 57, 78, 55, 97, 46, 43, 38, 88, 73, 51, 84, 37, 18, 97, 59, 28, 51, 82, 96, 36, 74, 94, 68, 50, 41, 71, 25, 11, 60, 13, 17, 91, 76, 38, 59, 99, 61, 45, 76, 64, 17, 34, 77, 71, 79, 89, 87, 5, 39, 73, 78, 98, 91, 60, 50, 95, 37, 91, 29, 35, 48, 10, 41, 58, 54, 28, 29, 59, 44, 94, 83, 76, 95, 12, 22, 52, 48, 78, 46, 84, 24, 37, 73, 42, 16, 60, 102, 69, 83, 88, 2, 23, 51, 50, 73, 47, 101, 29, 72, 65, 77, 86, 52, 89, 58, 58, 30, 84, 51, 59, 25, 30, 59, 83, 50, 45, 56, 33, 92, 32, 4, 88, 15, 72, 91, 15, 16, 8, 81, 14, 49, 97, 4, 36, 38, 56, 65, 28, 78, 52, 51, 68, 5, 78, 68, 90, 50, 59, 91, 94, 64, 40, 56, 71, 65, 81, 75, 29, 73, 50, 54, 98, 29, 12, 44, 14, 25, 84, 25, 58, 46, 40, 102, 15, 10, 74, 37, 63, 37, 92, 90, 56, 29, 52, 82, 86, 20, 36, 18, 17, 38, 77, 12, 68, 14, 88, 95, 70, 87, 93, 55, 34, 77, 8, 48, 90, 69, 46, 11, 88, 15, 51, 8, 29, 94, 24, 64, 47, 73, 38, 54, 77, 91, 95, 8, 82, 22, 48, 57, 40, 86, 59, 60, 89, 23, 33, 62, 31, 13, 10, 8, 102, 83, 102, 14, 58, 23, 75, 81, 52, 4, 89, 30, 81, 60, 3, 55, 19, 35, 68, 78, 29, 63, 82, 49, 78, 101, 23, 11, 36, 95, 60, 91, 77, 73, 60, 22, 18, 56, 22, 91, 8, 63, 38, 44, 91, 5, 55, 11, 77, 74, 24, 89, 82, 17, 96, 81, 83, 38, 73, 82, 95, 14, 56, 36, 63, 77, 101, 43, 51, 99, 13, 42, 67, 7, 44, 41, 42, 30, 33, 18, 58, 87, 30, 11, 30, 60, 87, 1, 32, 24, 91, 12, 74, 65, 79, 51, 102, 94, 58, 96, 16, 81, 83, 89, 101, 90, 51, 87, 15, 78, 23, 21, 83, 77, 99, 11, 47, 56, 41, 41, 29, 29, 49, 55, 32, 19, 95, 73, 24, 51, 56, 77, 36, 21, 39, 72, 92, 76, 77, 50, 31, 48, 51, 9, 17, 79, 30, 5, 40, 17, 37, 102, 9, 53, 80, 94, 44, 67, 78, 83, 23, 45, 88, 8, 83, 94, 75, 81, 51, 46, 53, 23, 58, 79, 81, 21, 74, 18, 102, 11, 59, 24, 25, 26, 29, 89, 43, 13, 96, 89, 95, 77, 41, 90, 12, 53, 36, 89, 83, 44, 5, 75, 57, 6, 77, 48, 42, 25, 8, 96, 4, 80, 81, 30, 85, 81, 83, 94, 67, 80, 56, 12, 88, 1, 8, 10, 20, 100, 99, 22, 74, 11, 78, 23, 32, 28, 8, 43, 34, 53, 46, 41, 85, 50, 76, 88, 16, 8, 76, 51, 37, 41, 74, 41, 14]\n",
      "1351\n"
     ]
    }
   ],
   "source": [
    "#print(tf.print(y_predict))\n",
    "x = list(np.array(y_predict))\n",
    "print(x)\n",
    "print(len(x))\n",
    "\n",
    "print(list(test_labels.values()))\n",
    "print(len(test_labels))\n",
    "\n",
    "\n",
    "# print(y_predict)\n",
    "# print(y_true)"
   ]
  },
  {
   "cell_type": "code",
   "execution_count": 24,
   "id": "d5ddb509",
   "metadata": {},
   "outputs": [
    {
     "name": "stdout",
     "output_type": "stream",
     "text": [
      "1\n",
      "2\n",
      "3\n",
      "4\n",
      "5\n",
      "6\n",
      "7\n",
      "8\n",
      "9\n",
      "10\n",
      "11\n",
      "12\n",
      "13\n",
      "14\n",
      "15\n",
      "16\n",
      "17\n",
      "18\n",
      "19\n",
      "20\n",
      "21\n",
      "22\n",
      "23\n",
      "24\n",
      "25\n",
      "26\n",
      "27\n",
      "28\n",
      "29\n",
      "30\n",
      "31\n",
      "32\n",
      "33\n",
      "34\n",
      "35\n",
      "36\n",
      "37\n",
      "38\n",
      "39\n",
      "40\n",
      "41\n",
      "42\n",
      "43\n",
      "44\n",
      "45\n",
      "46\n",
      "47\n",
      "48\n",
      "49\n",
      "50\n",
      "51\n",
      "52\n",
      "53\n",
      "54\n",
      "55\n",
      "56\n",
      "57\n",
      "58\n",
      "59\n",
      "60\n",
      "61\n",
      "62\n",
      "63\n",
      "64\n",
      "65\n",
      "66\n",
      "67\n",
      "68\n",
      "69\n",
      "70\n",
      "71\n",
      "72\n",
      "73\n",
      "74\n",
      "75\n",
      "76\n",
      "77\n",
      "78\n",
      "79\n",
      "80\n",
      "81\n",
      "82\n",
      "83\n",
      "84\n",
      "85\n",
      "86\n",
      "87\n",
      "88\n",
      "89\n",
      "90\n",
      "91\n",
      "92\n",
      "93\n",
      "94\n",
      "95\n",
      "96\n",
      "97\n",
      "98\n",
      "99\n",
      "100\n",
      "101\n",
      "102\n"
     ]
    },
    {
     "ename": "ValueError",
     "evalue": "Number of classes, 103, does not match size of target_names, 102. Try specifying the labels parameter",
     "output_type": "error",
     "traceback": [
      "\u001b[1;31m---------------------------------------------------------------------------\u001b[0m",
      "\u001b[1;31mValueError\u001b[0m                                Traceback (most recent call last)",
      "Cell \u001b[1;32mIn[24], line 10\u001b[0m\n\u001b[0;32m      6\u001b[0m     target_names\u001b[39m.\u001b[39mappend(\u001b[39mf\u001b[39m\u001b[39m\"\u001b[39m\u001b[39mflower_\u001b[39m\u001b[39m{\u001b[39;00mi\u001b[39m}\u001b[39;00m\u001b[39m\"\u001b[39m)\n\u001b[0;32m      7\u001b[0m     \u001b[39mprint\u001b[39m(i)\n\u001b[1;32m---> 10\u001b[0m report \u001b[39m=\u001b[39m classification_report(y_true\u001b[39m=\u001b[39;49m\u001b[39mlist\u001b[39;49m(test_labels\u001b[39m.\u001b[39;49mvalues()), y_pred\u001b[39m=\u001b[39;49my_predict, target_names\u001b[39m=\u001b[39;49mtarget_names)\n\u001b[0;32m     12\u001b[0m \u001b[39mprint\u001b[39m(report)\n\u001b[0;32m     14\u001b[0m \u001b[39m# confiusion matrix\u001b[39;00m\n\u001b[0;32m     15\u001b[0m \u001b[39m# cm = confusion_matrix(y_true, y_predict)\u001b[39;00m\n\u001b[0;32m     16\u001b[0m \u001b[39m# disp = ConfusionMatrixDisplay(confusion_matrix=cm, display_labels='')\u001b[39;00m\n\u001b[0;32m     17\u001b[0m \u001b[39m# disp.plot()\u001b[39;00m\n\u001b[0;32m     18\u001b[0m \u001b[39m# matplotlib.pyplot.show()\u001b[39;00m\n",
      "File \u001b[1;32mc:\\Users\\sterj\\AppData\\Local\\Programs\\Python\\Python38\\lib\\site-packages\\sklearn\\metrics\\_classification.py:2332\u001b[0m, in \u001b[0;36mclassification_report\u001b[1;34m(y_true, y_pred, labels, target_names, sample_weight, digits, output_dict, zero_division)\u001b[0m\n\u001b[0;32m   2326\u001b[0m         warnings\u001b[39m.\u001b[39mwarn(\n\u001b[0;32m   2327\u001b[0m             \u001b[39m\"\u001b[39m\u001b[39mlabels size, \u001b[39m\u001b[39m{0}\u001b[39;00m\u001b[39m, does not match size of target_names, \u001b[39m\u001b[39m{1}\u001b[39;00m\u001b[39m\"\u001b[39m\u001b[39m.\u001b[39mformat(\n\u001b[0;32m   2328\u001b[0m                 \u001b[39mlen\u001b[39m(labels), \u001b[39mlen\u001b[39m(target_names)\n\u001b[0;32m   2329\u001b[0m             )\n\u001b[0;32m   2330\u001b[0m         )\n\u001b[0;32m   2331\u001b[0m     \u001b[39melse\u001b[39;00m:\n\u001b[1;32m-> 2332\u001b[0m         \u001b[39mraise\u001b[39;00m \u001b[39mValueError\u001b[39;00m(\n\u001b[0;32m   2333\u001b[0m             \u001b[39m\"\u001b[39m\u001b[39mNumber of classes, \u001b[39m\u001b[39m{0}\u001b[39;00m\u001b[39m, does not match size of \u001b[39m\u001b[39m\"\u001b[39m\n\u001b[0;32m   2334\u001b[0m             \u001b[39m\"\u001b[39m\u001b[39mtarget_names, \u001b[39m\u001b[39m{1}\u001b[39;00m\u001b[39m. Try specifying the labels \u001b[39m\u001b[39m\"\u001b[39m\n\u001b[0;32m   2335\u001b[0m             \u001b[39m\"\u001b[39m\u001b[39mparameter\u001b[39m\u001b[39m\"\u001b[39m\u001b[39m.\u001b[39mformat(\u001b[39mlen\u001b[39m(labels), \u001b[39mlen\u001b[39m(target_names))\n\u001b[0;32m   2336\u001b[0m         )\n\u001b[0;32m   2337\u001b[0m \u001b[39mif\u001b[39;00m target_names \u001b[39mis\u001b[39;00m \u001b[39mNone\u001b[39;00m:\n\u001b[0;32m   2338\u001b[0m     target_names \u001b[39m=\u001b[39m [\u001b[39m\"\u001b[39m\u001b[39m%s\u001b[39;00m\u001b[39m\"\u001b[39m \u001b[39m%\u001b[39m l \u001b[39mfor\u001b[39;00m l \u001b[39min\u001b[39;00m labels]\n",
      "\u001b[1;31mValueError\u001b[0m: Number of classes, 103, does not match size of target_names, 102. Try specifying the labels parameter"
     ]
    }
   ],
   "source": [
    "from sklearn.metrics import confusion_matrix, ConfusionMatrixDisplay, classification_report\n",
    "\n",
    "# classification report\n",
    "target_names = []\n",
    "for i in range (1,103):\n",
    "    target_names.append(f\"flower_{i}\")\n",
    "    print(i)\n",
    "\n",
    "\n",
    "#for some fuking reason it eauther doent work beacous of\n",
    "#a. the probelm with batches described earlier\n",
    "#b. even if i put porper #of batches, its throws error that it read 103 classes instead of 102\n",
    "report = classification_report(y_true=list(test_labels.values()), y_pred=y_predict, target_names=target_names)\n",
    "\n",
    "print(report)\n",
    "\n",
    "# confiusion matrix\n",
    "# cm = confusion_matrix(y_true, y_predict)\n",
    "# disp = ConfusionMatrixDisplay(confusion_matrix=cm, display_labels='')\n",
    "# disp.plot()\n",
    "# matplotlib.pyplot.show()"
   ]
  },
  {
   "cell_type": "code",
   "execution_count": null,
   "id": "e41171ab",
   "metadata": {},
   "outputs": [],
   "source": []
  }
 ],
 "metadata": {
  "kernelspec": {
   "display_name": "ml-3.8",
   "language": "python",
   "name": "python3"
  },
  "language_info": {
   "codemirror_mode": {
    "name": "ipython",
    "version": 3
   },
   "file_extension": ".py",
   "mimetype": "text/x-python",
   "name": "python",
   "nbconvert_exporter": "python",
   "pygments_lexer": "ipython3",
   "version": "3.8.15"
  },
  "vscode": {
   "interpreter": {
    "hash": "71e3996440a4286f4b5430a3d4d1ae66fa68d894e5edac3334c7ebe5f98b7546"
   }
  }
 },
 "nbformat": 4,
 "nbformat_minor": 5
}
