{
 "cells": [
  {
   "attachments": {},
   "cell_type": "markdown",
   "metadata": {},
   "source": [
    "## Final Evaluation of Models\n",
    "Lichtenegger, Sternicka, Zieliński"
   ]
  },
  {
   "cell_type": "code",
   "execution_count": 2,
   "metadata": {},
   "outputs": [],
   "source": [
    "import tensorflow as tf\n",
    "import data_gen_new\n",
    "from tensorflow import keras\n",
    "import numpy as np\n",
    "import matplotlib.pyplot as plt\n",
    "import utils\n",
    "from tensorflow.keras.applications.inception_resnet_v2 import preprocess_input"
   ]
  },
  {
   "cell_type": "code",
   "execution_count": 3,
   "metadata": {},
   "outputs": [],
   "source": [
    "model = tf.keras.models.load_model('models/Updated_2_Inception_Resnet_V2_model_224_224.h5')"
   ]
  },
  {
   "cell_type": "code",
   "execution_count": 4,
   "metadata": {},
   "outputs": [],
   "source": [
    "batch_size =  16\n",
    "input_shape = (224, 224)"
   ]
  },
  {
   "cell_type": "code",
   "execution_count": 5,
   "metadata": {},
   "outputs": [
    {
     "name": "stdout",
     "output_type": "stream",
     "text": [
      "85/85 [==============================] - 29s 285ms/step - loss: 0.2739 - accuracy: 0.9327\n"
     ]
    }
   ],
   "source": [
    "y_validation = utils.import_labels('data/validation_labels.csv')\n",
    "datagen_validation = data_gen_new.DataGenerator('data/validation', y_validation, batch_size, input_shape,arr_preprocessing_func=preprocess_input)\n",
    "\n",
    "loss_fun = tf.keras.losses.CategoricalCrossentropy()\n",
    "\n",
    "model.compile(\n",
    "optimizer='adam',\n",
    "loss=loss_fun,\n",
    "metrics=['accuracy']\n",
    ")\n",
    "\n",
    "results = model.evaluate(datagen_validation)"
   ]
  },
  {
   "cell_type": "code",
   "execution_count": null,
   "metadata": {},
   "outputs": [],
   "source": []
  }
 ],
 "metadata": {
  "kernelspec": {
   "display_name": "tf-env",
   "language": "python",
   "name": "python3"
  },
  "language_info": {
   "codemirror_mode": {
    "name": "ipython",
    "version": 3
   },
   "file_extension": ".py",
   "mimetype": "text/x-python",
   "name": "python",
   "nbconvert_exporter": "python",
   "pygments_lexer": "ipython3",
   "version": "3.9.16"
  },
  "orig_nbformat": 4
 },
 "nbformat": 4,
 "nbformat_minor": 2
}
